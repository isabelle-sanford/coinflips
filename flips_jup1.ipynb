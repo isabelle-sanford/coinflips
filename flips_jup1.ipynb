{
 "cells": [
  {
   "cell_type": "code",
   "execution_count": 9,
   "metadata": {},
   "outputs": [
    {
     "name": "stdout",
     "output_type": "stream",
     "text": [
      "[[0, 0, 0, 0, 0], [0, 0, 0, 0, 1], [0, 0, 0, 1, 0], [0, 0, 0, 1, 1], [0, 0, 1, 0, 0], [0, 0, 1, 0, 1], [0, 0, 1, 1, 0], [0, 1, 0, 0, 0], [0, 1, 0, 0, 1], [0, 1, 0, 1, 0], [0, 1, 1, 0, 0], [1, 0, 0, 0, 0], [1, 0, 0, 0, 1], [1, 0, 0, 1, 0], [1, 0, 1, 0, 0], [1, 1, 0, 0, 0]]\n",
      "16\n"
     ]
    }
   ],
   "source": [
    "# MAKE LIST OF ALL COMBOS OF 5 DIGITS (row_list5)\n",
    "row_list3 = [[0,0,0], [0,0,1], [0,1,0], [0,1,1], [1,0,0], [1,0,1], [1,1,0], [1,1,1]]\n",
    "row_list2 = [[0,0], [0,1], [1,0], [1,1]]\n",
    "\n",
    "row_list5 = []\n",
    "\n",
    "for row3 in row_list3:\n",
    "    for row2 in row_list2:\n",
    "        row_list5.append(row3 + row2)\n",
    "\n",
    "# remove rows with more than two 1's (which can't be in a starting grid)\n",
    "rows5 = [row for row in row_list5 if sum(row) < 3]\n",
    "\n",
    "print(rows5)\n",
    "print(len(rows5))"
   ]
  },
  {
   "cell_type": "code",
   "execution_count": 14,
   "metadata": {},
   "outputs": [
    {
     "name": "stdout",
     "output_type": "stream",
     "text": [
      "15504\n",
      "[[0, 0, 0, 0, 0], [0, 0, 0, 0, 0], [0, 0, 0, 0, 0], [0, 0, 0, 0, 0], [0, 0, 0, 0, 1]]\n"
     ]
    }
   ],
   "source": [
    "# MAKE LIST OF ALL COMBOS OF STARTING ROWS\n",
    "quintuples = []\n",
    "\n",
    "for i in range(16):\n",
    "    for j in range(16 - i):\n",
    "        for k in range(16 - i - j):\n",
    "            for l in range(16 - i - j - k):\n",
    "                for m in range(16 - i - j - k - l):\n",
    "                    quintuples.append([rows5[i], \n",
    "                    rows5[i+j], \n",
    "                    rows5[i + j + k], \n",
    "                    rows5[i + j + k + l], \n",
    "                    rows5[i + j + k + l + m]])\n",
    "\n",
    "print(len(quintuples))"
   ]
  },
  {
   "cell_type": "code",
   "execution_count": 13,
   "metadata": {},
   "outputs": [
    {
     "name": "stdout",
     "output_type": "stream",
     "text": [
      "15504\n",
      "[(0, 0, 0, 0, 0), (0, 0, 0, 0, 0), (0, 0, 0, 0, 0), (0, 0, 0, 0, 0), (0, 0, 0, 0, 1)]\n"
     ]
    }
   ],
   "source": [
    "# ZIP INTO COLUMNS & REDUCE\n",
    "quintT = [list(zip(*rows)) for rows in quintuples]\n",
    "print(len(quintT))\n",
    "\n",
    "print(quintT[1])"
   ]
  },
  {
   "cell_type": "code",
   "execution_count": 15,
   "metadata": {},
   "outputs": [
    {
     "name": "stdout",
     "output_type": "stream",
     "text": [
      "3634\n"
     ]
    }
   ],
   "source": [
    "# take out impossible starting columns\n",
    "\n",
    "# quint_cols = []\n",
    "# for cols in quintT:\n",
    "#     sums = [sum(t) for t in cols]\n",
    "#     if max(sums) < 3:\n",
    "#         quintuplesC.append(cols)\n",
    "\n",
    "quint_cols = [cols for cols in quintT if max([sum(t) for t in cols]) < 3]\n",
    "print(len(quint_cols))"
   ]
  },
  {
   "cell_type": "code",
   "execution_count": 16,
   "metadata": {},
   "outputs": [
    {
     "name": "stdout",
     "output_type": "stream",
     "text": [
      "530\n",
      "[(0, 0, 0, 0, 0), (0, 0, 0, 0, 0), (0, 0, 0, 0, 0), (0, 0, 0, 0, 0), (0, 0, 0, 0, 1)]\n"
     ]
    }
   ],
   "source": [
    "# take out non-unique column combinations\n",
    "index1 = 0\n",
    "check1 = quint_cols[index1]\n",
    "\n",
    "index2 = 1\n",
    "check2 = quint_cols[index2]\n",
    "\n",
    "lastcheck = quint_cols[len(quint_cols) - 1]\n",
    "\n",
    "while index1 < len(quint_cols):\n",
    "    check1 = quint_cols[index1]    \n",
    "    removed = 0\n",
    "\n",
    "    for index2 in range(index1 + 1, len(quint_cols)):\n",
    "        check2 = quint_cols[index2 - removed]\n",
    "        nums1 = [rows5.index(list(x)) for x in check1]\n",
    "        nums2 = [rows5.index(list(x)) for x in check2] #should be eg [1, 3, 2, 15, 5]\n",
    "\n",
    "        while len(nums1) > 0:\n",
    "            if max(nums1) == max(nums2):\n",
    "                nums1.remove(max(nums1))\n",
    "                nums2.remove(max(nums2))\n",
    "            else:\n",
    "                break\n",
    "        \n",
    "        if len(nums1) == 0:\n",
    "            quint_cols.remove(check2)\n",
    "            removed += 1\n",
    "    \n",
    "    index1 += 1\n",
    "\n",
    "print(len(quint_cols))\n",
    "\n",
    "print(quint_cols[1])"
   ]
  },
  {
   "cell_type": "code",
   "execution_count": 17,
   "metadata": {},
   "outputs": [
    {
     "name": "stdout",
     "output_type": "stream",
     "text": [
      "530\n"
     ]
    }
   ],
   "source": [
    "# transpose back to rows\n",
    "\n",
    "quintR = list(zip(quint_cols))\n",
    "print(len(quintR))\n"
   ]
  },
  {
   "cell_type": "code",
   "execution_count": null,
   "metadata": {},
   "outputs": [],
   "source": []
  }
 ],
 "metadata": {
  "kernelspec": {
   "display_name": "Python 3",
   "language": "python",
   "name": "python3"
  },
  "language_info": {
   "codemirror_mode": {
    "name": "ipython",
    "version": 3
   },
   "file_extension": ".py",
   "mimetype": "text/x-python",
   "name": "python",
   "nbconvert_exporter": "python",
   "pygments_lexer": "ipython3",
   "version": "3.8.3"
  }
 },
 "nbformat": 4,
 "nbformat_minor": 4
}
